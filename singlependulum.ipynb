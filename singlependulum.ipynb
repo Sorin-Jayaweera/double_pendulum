{
 "cells": [
  {
   "cell_type": "code",
   "execution_count": 48,
   "metadata": {},
   "outputs": [],
   "source": [
    "# IMPORTS\n",
    "import numpy as np\n",
    "import scipy as sp\n",
    "import matplotlib.pyplot as plt\n",
    "import scipy.integrate as integrate\n",
    "import sympy.solvers.ode as ode\n",
    "import sympy as sym"
   ]
  },
  {
   "cell_type": "code",
   "execution_count": 63,
   "id": "0495b31b",
   "metadata": {},
   "outputs": [],
   "source": [
    "# Parameters of the system\n",
    "theta = sym.symbols(\"θ\")\n",
    "dtheta = sym.symbols(\"dθ\")\n",
    "l ,m, g = [1,1,9.8]\n",
    "L = sym.symbols(\"L\")"
   ]
  },
  {
   "cell_type": "code",
   "execution_count": 64,
   "id": "67bb1a7b",
   "metadata": {},
   "outputs": [],
   "source": [
    "U =  m * g * l * (1-sym.cos(theta)) \n",
    "T = 1/2 * m * dtheta**2\n",
    "lagr = T-U "
   ]
  },
  {
   "cell_type": "code",
   "execution_count": 83,
   "id": "ce7e852b",
   "metadata": {},
   "outputs": [],
   "source": [
    "ddtheta = sym.diff(lagr,theta)\n",
    "dddtheta = sym.diff(lagr,dtheta)"
   ]
  },
  {
   "cell_type": "code",
   "execution_count": 85,
   "metadata": {},
   "outputs": [],
   "source": [
    "f = sym.lambdify((theta,dtheta), [ddtheta/dddtheta])"
   ]
  },
  {
   "cell_type": "code",
   "execution_count": 87,
   "id": "1abd3159",
   "metadata": {},
   "outputs": [
    {
     "ename": "TypeError",
     "evalue": "loop of ufunc does not support argument 0 of type Symbol which has no callable sin method",
     "output_type": "error",
     "traceback": [
      "\u001b[1;31m---------------------------------------------------------------------------\u001b[0m",
      "\u001b[1;31mAttributeError\u001b[0m                            Traceback (most recent call last)",
      "\u001b[1;31mAttributeError\u001b[0m: 'Symbol' object has no attribute 'sin'",
      "\nThe above exception was the direct cause of the following exception:\n",
      "\u001b[1;31mTypeError\u001b[0m                                 Traceback (most recent call last)",
      "Cell \u001b[1;32mIn[87], line 1\u001b[0m\n\u001b[1;32m----> 1\u001b[0m ode\u001b[38;5;241m.\u001b[39mdsolve(f(theta,dtheta))\n",
      "File \u001b[1;32m<lambdifygenerated-6>:2\u001b[0m, in \u001b[0;36m_lambdifygenerated\u001b[1;34m(θ, dθ)\u001b[0m\n\u001b[0;32m      1\u001b[0m \u001b[38;5;28;01mdef\u001b[39;00m \u001b[38;5;21m_lambdifygenerated\u001b[39m(θ, dθ):\n\u001b[1;32m----> 2\u001b[0m     \u001b[38;5;28;01mreturn\u001b[39;00m [\u001b[38;5;241m-\u001b[39m\u001b[38;5;241m9.8\u001b[39m\u001b[38;5;241m*\u001b[39msin(θ)\u001b[38;5;241m/\u001b[39mdθ]\n",
      "\u001b[1;31mTypeError\u001b[0m: loop of ufunc does not support argument 0 of type Symbol which has no callable sin method"
     ]
    }
   ],
   "source": [
    "ode.dsolve(f(theta,dtheta))"
   ]
  }
 ],
 "metadata": {
  "kernelspec": {
   "display_name": "base",
   "language": "python",
   "name": "python3"
  },
  "language_info": {
   "codemirror_mode": {
    "name": "ipython",
    "version": 3
   },
   "file_extension": ".py",
   "mimetype": "text/x-python",
   "name": "python",
   "nbconvert_exporter": "python",
   "pygments_lexer": "ipython3",
   "version": "3.12.7"
  }
 },
 "nbformat": 4,
 "nbformat_minor": 5
}
