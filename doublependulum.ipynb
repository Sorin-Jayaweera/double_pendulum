{
 "cells": [
  {
   "cell_type": "code",
   "execution_count": 14,
   "metadata": {},
   "outputs": [],
   "source": [
    "# IMPORTS\n",
    "import numpy as np\n",
    "import scipy as sp\n",
    "import matplotlib.pyplot as plt\n",
    "import scipy.integrate as integrate\n",
    "import sympy as sym"
   ]
  },
  {
   "cell_type": "code",
   "execution_count": 36,
   "id": "0495b31b",
   "metadata": {},
   "outputs": [],
   "source": [
    "# Parameters of the system\n",
    "\n",
    "\n",
    "theta1,theta2 = sym.symbols(\"θ_1, θ_2\")\n",
    "dtheta1,dtheta2 = sym.symbols(\"dθ_1, dθ_2\")\n",
    "l1 ,l2 ,m1, m2, g = sym.symbols(\"l1,l2,m1,m2,g\")\n",
    "L = sym.symbols(\"L\")\n",
    "\n"
   ]
  },
  {
   "cell_type": "code",
   "execution_count": 54,
   "id": "d64c56e5",
   "metadata": {},
   "outputs": [],
   "source": [
    "\n",
    "U =  g*((m1+m2)*l1*sym.cos(theta1) + m2*l2*sym.cos(theta2))\n",
    "T = (1/2 * m1 * dtheta1**2 * l1**2) + 1/2 * m2*(dtheta2**2*l2**2 + dtheta1**2*l1**2+2*dtheta1*dtheta2*l1*l2*sym.cos(theta1-theta2))\n",
    "lagr = T-U\n",
    "\n",
    "\n"
   ]
  },
  {
   "cell_type": "code",
   "execution_count": 55,
   "id": "85123906",
   "metadata": {},
   "outputs": [],
   "source": [
    "ddtheta1 = sym.diff(lagr,theta1)\n",
    "ddtheta2 = sym.diff(lagr,theta2)\n",
    "dddtheta1 = sym.diff(lagr,dtheta1)\n",
    "dddtheta2 = sym.diff(lagr,dtheta2)"
   ]
  },
  {
   "cell_type": "code",
   "execution_count": null,
   "id": "1abd3159",
   "metadata": {},
   "outputs": [
    {
     "data": {
      "text/latex": [
       "$\\displaystyle 0.5 m_{2} \\left(2 dθ_{1} l_{1} l_{2} \\cos{\\left(θ_{1} - θ_{2} \\right)} + 2 dθ_{2} l_{2}^{2}\\right)$"
      ],
      "text/plain": [
       "0.5*m2*(2*dθ_1*l1*l2*cos(θ_1 - θ_2) + 2*dθ_2*l2**2)"
      ]
     },
     "execution_count": 59,
     "metadata": {},
     "output_type": "execute_result"
    }
   ],
   "source": []
  }
 ],
 "metadata": {
  "kernelspec": {
   "display_name": "base",
   "language": "python",
   "name": "python3"
  },
  "language_info": {
   "codemirror_mode": {
    "name": "ipython",
    "version": 3
   },
   "file_extension": ".py",
   "mimetype": "text/x-python",
   "name": "python",
   "nbconvert_exporter": "python",
   "pygments_lexer": "ipython3",
   "version": "3.12.7"
  }
 },
 "nbformat": 4,
 "nbformat_minor": 5
}
